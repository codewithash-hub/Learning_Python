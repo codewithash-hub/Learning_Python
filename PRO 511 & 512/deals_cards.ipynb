{
 "cells": [
  {
   "cell_type": "markdown",
   "metadata": {},
   "source": [
    "Using a Dictionary to Simulate a Deck of Cards\n",
    "In some games involving poker cards, the cards are assigned numeric values. For example,\n",
    "in the game of Blackjack, the cards are given the following numeric values:\n",
    "• Numeric cards are assigned the value they have printed on them. For example, the\n",
    "value of the 2 of spades is 2, and the value of the 5 of diamonds is 5.\n",
    "• Jacks, queens, and kings are valued at 10.\n",
    "• Aces are valued at either 1 or 11, depending on the player’s choice.\n",
    "In this section, we look at a program that uses a dictionary to simulate a standard deck of\n",
    "poker cards, where the cards are assigned numeric values similar to those used in Blackjack.\n",
    "(In the program, we assign the value 1 to all aces.) The key-value pairs use the name of the\n",
    "card as the key, and the card’s numeric value as the value. For example, the key-value pair\n",
    "for the queen of hearts is\n",
    "'Queen of Hearts':10\n",
    "And the key-value pair for the 8 of diamonds is\n",
    "'8 of Diamonds':8\n",
    "The program prompts the user for the number of cards to deal, and it randomly deals a\n",
    "hand of that many cards from the deck. The names of the cards are displayed, as well as\n",
    "the total numeric value of the hand. Program 9-1 shows the program code. The program is\n",
    "divided into three functions: main, create_deck, and deal_cards. Rather than presenting\n",
    "the entire program at once, let’s first examine the main function."
   ]
  },
  {
   "cell_type": "code",
   "execution_count": 9,
   "metadata": {},
   "outputs": [],
   "source": [
    "import random"
   ]
  },
  {
   "cell_type": "code",
   "execution_count": 11,
   "metadata": {},
   "outputs": [],
   "source": [
    "def create_deck():\n",
    "    deck = {'Ace of Spades':1, '2 of Spades':2, '3 of Spades':3,\n",
    "            '4 of Spades':4, '5 of Spades':5, '6 of Spades':6,\n",
    "            '7 of Spades':7, '8 of Spades':8, '9 of Spades':9,\n",
    "            '10 of Spades':10, 'Jack of Spades':10,\n",
    "            'Queen of Spades':10, 'King of Spades': 10,             \n",
    "            'Ace of Hearts':1, '2 of Hearts':2, '3 of Hearts':3,\n",
    "            '4 of Hearts':4, '5 of Hearts':5, '6 of Hearts':6,\n",
    "            '7 of Hearts':7, '8 of Hearts':8, '9 of Hearts':9,\n",
    "            '10 of Hearts':10, 'Jack of Hearts':10,\n",
    "            'Queen of Hearts':10, 'King of Hearts': 10,\n",
    "            'Ace of Clubs':1, '2 of Clubs':2, '3 of Clubs':3,\n",
    "            '4 of Clubs':4, '5 of Clubs':5, '6 of Clubs':6,\n",
    "            '7 of Clubs':7, '8 of Clubs':8, '9 of Clubs':9,\n",
    "            '10 of Clubs':10, 'Jack of Clubs':10,\n",
    "            'Queen of Clubs':10, 'King of Clubs': 10,               \n",
    "            'Ace of Diamonds':1, '2 of Diamonds':2, '3 of Diamonds':3,\n",
    "            '4 of Diamonds':4, '5 of Diamonds':5, '6 of Diamonds':6,\n",
    "            '7 of Diamonds':7, '8 of Diamonds':8, '9 of Diamonds':9,\n",
    "            '10 of Diamonds':10, 'Jack of Diamonds':10,\n",
    "            'Queen of Diamonds':10, 'King of Diamonds': 10}\n",
    "    \n",
    "    return deck"
   ]
  },
  {
   "cell_type": "code",
   "execution_count": 12,
   "metadata": {},
   "outputs": [],
   "source": [
    "def deal_cards(deck, number):\n",
    "    hand_value = 0\n",
    "\n",
    "    if number > len(deck):\n",
    "        number = len(deck)\n",
    "\n",
    "    for count in range(number):\n",
    "        card = random.choice(list(deck))\n",
    "        print(card)\n",
    "        hand_value += deck[card]\n",
    "\n",
    "    print(f'Value of this hand: {hand_value}')"
   ]
  },
  {
   "cell_type": "code",
   "execution_count": 18,
   "metadata": {},
   "outputs": [
    {
     "name": "stdout",
     "output_type": "stream",
     "text": [
      "7 of Diamonds\n",
      "8 of Spades\n",
      "Value of this hand: 15\n"
     ]
    }
   ],
   "source": [
    "def main():\n",
    "    deck = create_deck()\n",
    "\n",
    "    num_cards = int(input('How many cards should I deal? '))\n",
    "\n",
    "    deal_cards(deck, num_cards)\n",
    "\n",
    "if __name__ == '__main__':\n",
    "    main()"
   ]
  }
 ],
 "metadata": {
  "kernelspec": {
   "display_name": "Python 3",
   "language": "python",
   "name": "python3"
  },
  "language_info": {
   "codemirror_mode": {
    "name": "ipython",
    "version": 3
   },
   "file_extension": ".py",
   "mimetype": "text/x-python",
   "name": "python",
   "nbconvert_exporter": "python",
   "pygments_lexer": "ipython3",
   "version": "3.12.0"
  }
 },
 "nbformat": 4,
 "nbformat_minor": 2
}
