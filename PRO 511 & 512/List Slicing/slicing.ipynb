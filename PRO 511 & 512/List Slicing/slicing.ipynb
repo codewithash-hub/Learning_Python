{
 "cells": [
  {
   "cell_type": "code",
   "execution_count": 6,
   "metadata": {},
   "outputs": [],
   "source": [
    "lst1 = ['chichi', 'tondi', 'shaki', 'mpho', 'phathu', 'vinny', 'roli', 'ndina', 'shumi', 'mboni']"
   ]
  },
  {
   "cell_type": "code",
   "execution_count": 9,
   "metadata": {},
   "outputs": [
    {
     "data": {
      "text/plain": [
       "['shaki', 'mpho', 'phathu']"
      ]
     },
     "execution_count": 9,
     "metadata": {},
     "output_type": "execute_result"
    }
   ],
   "source": [
    "lst1[2:5]"
   ]
  },
  {
   "cell_type": "code",
   "execution_count": 16,
   "metadata": {},
   "outputs": [
    {
     "name": "stdout",
     "output_type": "stream",
     "text": [
      "chichi\n",
      "tondi\n",
      "shaki\n",
      "mpho\n",
      "phathu\n",
      "vinny\n",
      "roli\n",
      "ndina\n",
      "shumi\n",
      "mboni\n"
     ]
    }
   ],
   "source": [
    "for name in lst1:\n",
    "    \n",
    "    print(name)"
   ]
  },
  {
   "cell_type": "code",
   "execution_count": 20,
   "metadata": {},
   "outputs": [],
   "source": [
    "colors = [['Red', 'Green', 'Blue'], [\"Cyan\", 'Magenta', 'Yellow', 'Black']]"
   ]
  },
  {
   "cell_type": "code",
   "execution_count": 23,
   "metadata": {},
   "outputs": [
    {
     "name": "stdout",
     "output_type": "stream",
     "text": [
      "Cyan\n",
      "Black\n"
     ]
    }
   ],
   "source": [
    "print(colors[1][0])\n",
    "print(colors[1][3])"
   ]
  },
  {
   "cell_type": "code",
   "execution_count": 24,
   "metadata": {},
   "outputs": [
    {
     "name": "stdout",
     "output_type": "stream",
     "text": [
      "chichi\n",
      "tondi\n",
      "shaki\n",
      "mpho\n",
      "phathu\n",
      "vinny\n",
      "roli\n",
      "ndina\n",
      "shumi\n",
      "mboni\n"
     ]
    }
   ],
   "source": [
    "index = 0\n",
    "while index < len(lst1):\n",
    "    print(lst1[index])\n",
    "    index += 1"
   ]
  },
  {
   "cell_type": "code",
   "execution_count": 36,
   "metadata": {},
   "outputs": [
    {
     "name": "stdout",
     "output_type": "stream",
     "text": [
      "mboni\n"
     ]
    }
   ],
   "source": [
    "for i in lst1[-1:]:\n",
    "    print(i)"
   ]
  },
  {
   "cell_type": "code",
   "execution_count": 42,
   "metadata": {},
   "outputs": [
    {
     "name": "stdout",
     "output_type": "stream",
     "text": [
      "chichi\n",
      "tondi\n",
      "shaki\n",
      "mpho\n",
      "phathu\n",
      "vinny\n",
      "roli\n",
      "ndina\n",
      "shumi\n",
      "mboni\n"
     ]
    }
   ],
   "source": [
    "for i in range(len(lst1)):\n",
    "    print(lst1[i])"
   ]
  },
  {
   "cell_type": "code",
   "execution_count": 48,
   "metadata": {},
   "outputs": [
    {
     "data": {
      "text/plain": [
       "[99, 99, 99, 99, 99]"
      ]
     },
     "execution_count": 48,
     "metadata": {},
     "output_type": "execute_result"
    }
   ],
   "source": [
    "numbers = [0] * 5\n",
    "for index in range(len(numbers)):\n",
    "    numbers[index] = 99\n",
    "\n",
    "numbers"
   ]
  },
  {
   "cell_type": "code",
   "execution_count": 51,
   "metadata": {},
   "outputs": [
    {
     "data": {
      "text/plain": [
       "[1, 1, 1, 2, 2, 2]"
      ]
     },
     "execution_count": 51,
     "metadata": {},
     "output_type": "execute_result"
    }
   ],
   "source": [
    "list1 = [1] * 3\n",
    "list2 = [2] * 3\n",
    "\n",
    "list1 += list2\n",
    "list1"
   ]
  },
  {
   "cell_type": "markdown",
   "metadata": {},
   "source": [
    "# Slicing"
   ]
  },
  {
   "cell_type": "code",
   "execution_count": 55,
   "metadata": {},
   "outputs": [
    {
     "name": "stdout",
     "output_type": "stream",
     "text": [
      "svf55 was NOT found\n"
     ]
    }
   ],
   "source": [
    "def main():\n",
    "    prod_num = ['V475', 'Q688', 'F987', 'R143']\n",
    "    search = input('Enter a product number: ')\n",
    "\n",
    "    if search in prod_num:\n",
    "        print(f\"{search} was Found!\")\n",
    "    else:\n",
    "        print(f'{search} was NOT found')\n",
    "\n",
    "\n",
    "if __name__ == '__main__':\n",
    "    main()"
   ]
  },
  {
   "cell_type": "code",
   "execution_count": 56,
   "metadata": {},
   "outputs": [
    {
     "data": {
      "text/plain": [
       "8"
      ]
     },
     "execution_count": 56,
     "metadata": {},
     "output_type": "execute_result"
    }
   ],
   "source": [
    "lst1.index('shumi')"
   ]
  },
  {
   "cell_type": "code",
   "execution_count": 58,
   "metadata": {},
   "outputs": [
    {
     "data": {
      "text/plain": [
       "['chichi',\n",
       " 'tondi',\n",
       " 'shaki',\n",
       " 'mpho',\n",
       " 'phathu',\n",
       " 'vinny',\n",
       " 'roli',\n",
       " 'ndina',\n",
       " 'shumi',\n",
       " 'mboni',\n",
       " 'Lizzy',\n",
       " 'Lizzy']"
      ]
     },
     "execution_count": 58,
     "metadata": {},
     "output_type": "execute_result"
    }
   ],
   "source": [
    "lst1.append('Lizzy')\n",
    "lst1"
   ]
  },
  {
   "cell_type": "code",
   "execution_count": 64,
   "metadata": {},
   "outputs": [],
   "source": [
    "lst1.remove('shaki')\n",
    "lst1.remove('Lizzy')"
   ]
  },
  {
   "cell_type": "code",
   "execution_count": 65,
   "metadata": {},
   "outputs": [
    {
     "data": {
      "text/plain": [
       "['chichi',\n",
       " 'tondi',\n",
       " 'mpho',\n",
       " 'phathu',\n",
       " 'vinny',\n",
       " 'roli',\n",
       " 'ndina',\n",
       " 'shumi',\n",
       " 'mboni']"
      ]
     },
     "execution_count": 65,
     "metadata": {},
     "output_type": "execute_result"
    }
   ],
   "source": [
    "lst1"
   ]
  },
  {
   "cell_type": "code",
   "execution_count": 66,
   "metadata": {},
   "outputs": [
    {
     "data": {
      "text/plain": [
       "['chichi',\n",
       " 'tondi',\n",
       " 'mpho',\n",
       " 'phathu',\n",
       " 'tondi',\n",
       " 'vinny',\n",
       " 'roli',\n",
       " 'ndina',\n",
       " 'shumi',\n",
       " 'mboni']"
      ]
     },
     "execution_count": 66,
     "metadata": {},
     "output_type": "execute_result"
    }
   ],
   "source": [
    "lst1.insert(4, 'tondi')\n",
    "lst1"
   ]
  },
  {
   "cell_type": "code",
   "execution_count": 68,
   "metadata": {},
   "outputs": [
    {
     "data": {
      "text/plain": [
       "['chichi',\n",
       " 'mboni',\n",
       " 'mpho',\n",
       " 'ndina',\n",
       " 'phathu',\n",
       " 'roli',\n",
       " 'shumi',\n",
       " 'tondi',\n",
       " 'tondi',\n",
       " 'vinny']"
      ]
     },
     "execution_count": 68,
     "metadata": {},
     "output_type": "execute_result"
    }
   ],
   "source": [
    "lst1.sort()\n",
    "lst1"
   ]
  },
  {
   "cell_type": "code",
   "execution_count": 75,
   "metadata": {},
   "outputs": [
    {
     "data": {
      "text/plain": [
       "[78, 35, 42, 8, 45, 22, 11]"
      ]
     },
     "execution_count": 75,
     "metadata": {},
     "output_type": "execute_result"
    }
   ],
   "source": [
    "nums = [11, 22, 45, 8, 42, 35, 78]\n",
    "nums.reverse()\n",
    "nums"
   ]
  },
  {
   "cell_type": "code",
   "execution_count": 76,
   "metadata": {},
   "outputs": [
    {
     "data": {
      "text/plain": [
       "[78, 35, 42, 45, 22, 11]"
      ]
     },
     "execution_count": 76,
     "metadata": {},
     "output_type": "execute_result"
    }
   ],
   "source": [
    "del nums[3]\n",
    "\n",
    "nums"
   ]
  },
  {
   "cell_type": "markdown",
   "metadata": {},
   "source": [
    "# Copying list"
   ]
  },
  {
   "cell_type": "code",
   "execution_count": 82,
   "metadata": {},
   "outputs": [
    {
     "data": {
      "text/plain": [
       "['Class 1', 'Class 2']"
      ]
     },
     "execution_count": 82,
     "metadata": {},
     "output_type": "execute_result"
    }
   ],
   "source": [
    "classes = ['Lab 101', 'Lab 102', 'Class 1', 'Class 2']\n",
    "classes2 = [items for items in classes if items[0] == 'C']\n",
    "classes2"
   ]
  },
  {
   "cell_type": "code",
   "execution_count": 83,
   "metadata": {},
   "outputs": [
    {
     "data": {
      "text/plain": [
       "[7, 7, 7, 7]"
      ]
     },
     "execution_count": 83,
     "metadata": {},
     "output_type": "execute_result"
    }
   ],
   "source": [
    "len_list = [len(s) for s in classes]\n",
    "len_list"
   ]
  },
  {
   "cell_type": "code",
   "execution_count": 84,
   "metadata": {},
   "outputs": [
    {
     "data": {
      "text/plain": [
       "[22, 11]"
      ]
     },
     "execution_count": 84,
     "metadata": {},
     "output_type": "execute_result"
    }
   ],
   "source": [
    "[item for item in nums if item < 25]"
   ]
  }
 ],
 "metadata": {
  "kernelspec": {
   "display_name": "Python 3",
   "language": "python",
   "name": "python3"
  },
  "language_info": {
   "codemirror_mode": {
    "name": "ipython",
    "version": 3
   },
   "file_extension": ".py",
   "mimetype": "text/x-python",
   "name": "python",
   "nbconvert_exporter": "python",
   "pygments_lexer": "ipython3",
   "version": "3.12.0"
  }
 },
 "nbformat": 4,
 "nbformat_minor": 2
}
